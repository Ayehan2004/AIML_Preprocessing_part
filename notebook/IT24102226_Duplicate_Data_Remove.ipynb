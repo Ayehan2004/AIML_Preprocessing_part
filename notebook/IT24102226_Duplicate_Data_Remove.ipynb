{
 "cells": [
  {
   "cell_type": "code",
   "execution_count": 5,
   "id": "6244f4c8-a9b9-4e74-997f-e61e07126b99",
   "metadata": {},
   "outputs": [
    {
     "name": "stdout",
     "output_type": "stream",
     "text": [
      "Missing values in each column:\n",
      " Diabetes_binary         0\n",
      "HighBP                  0\n",
      "HighChol                0\n",
      "CholCheck               0\n",
      "BMI                     0\n",
      "Smoker                  0\n",
      "Stroke                  0\n",
      "HeartDiseaseorAttack    0\n",
      "PhysActivity            0\n",
      "Fruits                  0\n",
      "Veggies                 0\n",
      "HvyAlcoholConsump       0\n",
      "AnyHealthcare           0\n",
      "NoDocbcCost             0\n",
      "GenHlth                 0\n",
      "MentHlth                0\n",
      "PhysHlth                0\n",
      "DiffWalk                0\n",
      "Sex                     0\n",
      "Age                     0\n",
      "Education               0\n",
      "Income                  0\n",
      "dtype: int64\n",
      "\n",
      "Number of duplicate rows: 1634\n",
      "      Diabetes_binary  HighBP  HighChol  CholCheck  BMI Smoker  Stroke  \\\n",
      "602                 0       0         0          1   22     No       0   \n",
      "689                 0       0         0          1   26     No       0   \n",
      "891                 0       0         0          1   24     No       0   \n",
      "1092                0       0         0          1   21     No       0   \n",
      "1326                0       1         0          1   29     No       0   \n",
      "\n",
      "      HeartDiseaseorAttack  PhysActivity  Fruits  ...  AnyHealthcare  \\\n",
      "602                      0             1       1  ...              1   \n",
      "689                      0             1       1  ...              1   \n",
      "891                      0             1       1  ...              1   \n",
      "1092                     0             1       1  ...              1   \n",
      "1326                     0             1       0  ...              1   \n",
      "\n",
      "      NoDocbcCost  GenHlth  MentHlth  PhysHlth  DiffWalk     Sex  Age  \\\n",
      "602             0        1         0         0         0  Female    6   \n",
      "689             0        1         0         0         0  Female    6   \n",
      "891             0        1         0         0         0  Female    6   \n",
      "1092            0        1         0         0         0  Female    5   \n",
      "1326            0        2         0         0         0    Male   10   \n",
      "\n",
      "     Education  Income  \n",
      "602          6       8  \n",
      "689          6       8  \n",
      "891          6       8  \n",
      "1092         6       8  \n",
      "1326         5       6  \n",
      "\n",
      "[5 rows x 22 columns]\n",
      "\n",
      "Shape before cleaning: (70692, 22)\n",
      "Shape after removing duplicates: (69058, 22)\n"
     ]
    }
   ],
   "source": [
    "import pandas as pd\n",
    "\n",
    "# Load dataset\n",
    "df = pd.read_csv(\"diabetes.csv\")\n",
    "\n",
    "#Check for missing values\n",
    "print(\"Missing values in each column:\\n\", df.isnull().sum())\n",
    "\n",
    "# Check for duplicates\n",
    "duplicates_count = df.duplicated().sum()\n",
    "print(\"\\nNumber of duplicate rows:\", duplicates_count)\n",
    "\n",
    "# Show first 5 duplicate rows\n",
    "print(df[df.duplicated()].head())\n",
    "\n",
    "\n",
    "#Remove duplicates\n",
    "df_cleaned = df.drop_duplicates()\n",
    "\n",
    "print(\"\\nShape before cleaning:\", df.shape)\n",
    "print(\"Shape after removing duplicates:\", df_cleaned.shape)\n",
    "\n",
    "# Save cleaned dataset\n",
    "df_cleaned.to_csv(\"diabetes_cleaned.csv\", index=False)\n"
   ]
  },
  {
   "cell_type": "code",
   "execution_count": null,
   "id": "c442998b-a40a-4c8a-9b43-5370c4c58456",
   "metadata": {},
   "outputs": [],
   "source": []
  },
  {
   "cell_type": "code",
   "execution_count": null,
   "id": "d3191df1-e5bc-4271-9e0c-b4c917643f26",
   "metadata": {},
   "outputs": [],
   "source": []
  },
  {
   "cell_type": "code",
   "execution_count": null,
   "id": "eeb5e074-9603-45d2-b219-c9f48422c81f",
   "metadata": {},
   "outputs": [],
   "source": []
  },
  {
   "cell_type": "code",
   "execution_count": null,
   "id": "775f322f-f9a5-4c5d-8798-f0138ad262c5",
   "metadata": {},
   "outputs": [],
   "source": []
  },
  {
   "cell_type": "code",
   "execution_count": null,
   "id": "613fe1c5-4cff-45b9-a475-95ec93f00186",
   "metadata": {},
   "outputs": [],
   "source": []
  },
  {
   "cell_type": "code",
   "execution_count": null,
   "id": "eccce81d-8e75-4d0f-903b-bc30fb433b65",
   "metadata": {},
   "outputs": [],
   "source": []
  },
  {
   "cell_type": "code",
   "execution_count": null,
   "id": "93e74308-82c4-4b88-a6a9-58ebc7dda43f",
   "metadata": {},
   "outputs": [],
   "source": []
  },
  {
   "cell_type": "code",
   "execution_count": null,
   "id": "ed165f17-3c87-40c9-b9e9-36a74f597112",
   "metadata": {},
   "outputs": [],
   "source": []
  },
  {
   "cell_type": "code",
   "execution_count": null,
   "id": "ada698b5-23f4-49e6-ab34-2bc006504985",
   "metadata": {},
   "outputs": [],
   "source": []
  },
  {
   "cell_type": "code",
   "execution_count": null,
   "id": "17bb76f7-bb91-4198-90cd-25f9032a1d47",
   "metadata": {},
   "outputs": [],
   "source": []
  },
  {
   "cell_type": "code",
   "execution_count": null,
   "id": "721d87d4-e936-4fa2-8442-6bef4de6d78d",
   "metadata": {},
   "outputs": [],
   "source": []
  },
  {
   "cell_type": "code",
   "execution_count": null,
   "id": "40e342bf-d7ec-4094-93a0-afda082e1f53",
   "metadata": {},
   "outputs": [],
   "source": []
  }
 ],
 "metadata": {
  "kernelspec": {
   "display_name": "Python 3 (ipykernel)",
   "language": "python",
   "name": "python3"
  },
  "language_info": {
   "codemirror_mode": {
    "name": "ipython",
    "version": 3
   },
   "file_extension": ".py",
   "mimetype": "text/x-python",
   "name": "python",
   "nbconvert_exporter": "python",
   "pygments_lexer": "ipython3",
   "version": "3.11.4"
  }
 },
 "nbformat": 4,
 "nbformat_minor": 5
}
